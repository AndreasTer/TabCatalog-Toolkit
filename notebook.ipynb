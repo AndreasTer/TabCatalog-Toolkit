{
 "cells": [
  {
   "cell_type": "code",
   "execution_count": 1,
   "metadata": {},
   "outputs": [],
   "source": [
    "#importing\n",
    "import dbt_functions as dbt\n",
    "import database_functions as database\n",
    "import tab_functions as tab\n",
    "import pandas as pd\n",
    "from my_variables import *\n"
   ]
  },
  {
   "cell_type": "code",
   "execution_count": 2,
   "metadata": {},
   "outputs": [],
   "source": [
    "#Authenticating against Snowflake and Tableau.\n",
    "\n",
    "snow_auth = database.authenticate_snowflake(snow_u, snow_p, snow_account, snow_db)\n",
    "tab_auth = tab.authenticate_tableau(tab_url,access_token,site_name,token_name)\n",
    "oracle_auth = database.authenticate_oracle(ora_u=oracle_u, ora_p=oracle_p, ora_ip = oracle_db, ora_service= oracle_service)\n",
    "dbt_account_id = dbt.get_account_id(dbt_token)\n",
    "tab_token = tab_auth[0]\n",
    "site_id = tab_auth[1]"
   ]
  },
  {
   "cell_type": "code",
   "execution_count": 3,
   "metadata": {},
   "outputs": [],
   "source": [
    "#Run tab functions to get infos about databases used in Tableau\n",
    "#oracle_infos = tab.get_table_infos(tab_url, oracle_db, tab_token)\n",
    "snow_infos = tab.get_table_infos(tab_url, snow_db, tab_token)"
   ]
  },
  {
   "cell_type": "code",
   "execution_count": 23,
   "metadata": {},
   "outputs": [],
   "source": [
    "#Get all current models running on dbt.\n",
    "dbt_jobs = dbt.get_jobs(dbt_account_id,dbt_token)\n",
    "dbt_models = dbt.get_models_information(dbt_token,'115014')"
   ]
  },
  {
   "cell_type": "code",
   "execution_count": 25,
   "metadata": {},
   "outputs": [
    {
     "data": {
      "text/plain": [
       "0    False\n",
       "1    False\n",
       "2    False\n",
       "3    False\n",
       "dtype: bool"
      ]
     },
     "execution_count": 25,
     "metadata": {},
     "output_type": "execute_result"
    }
   ],
   "source": []
  },
  {
   "cell_type": "code",
   "execution_count": 49,
   "metadata": {},
   "outputs": [
    {
     "name": "stdout",
     "output_type": "stream",
     "text": [
      "no matching model found\n",
      "no matching model found\n",
      "no matching model found\n",
      "no matching model found\n"
     ]
    }
   ],
   "source": [
    "#For each snowflake table on Tableau, add a data quality warning.\n",
    "for index, row in snow_infos.iterrows():\n",
    "    #Match dbt model with snowflake table\n",
    "    if row['table_schema'] == dbt_models['schema'][0]:\n",
    "        try:\n",
    "            #Add a quality warning to Tableau.\n",
    "            print(tab_url, site_id, row['table_luid'], data_quality_message.item() ,tab_token)\n",
    "            model_part = dbt_models.loc[(dbt_models['schema'].str.contains(row['table_schema']))&(dbt_models['alias']==row['table_name'].lower())]\n",
    "            data_quality_message = 'The data was last updated on ' + model_part['executeCompletedAt'] + ' and was ' + model_part['status'] + 'ful. The run took ' + str(model_part['runElapsedTime'].values) + ' seconds.'\n",
    "            tab.add_data_quality_warning(tab_url, site_id, row['table_luid'], data_quality_message.item() ,tab_token)\n",
    "            print('Added quality warning for ' + row['table_schema'] + '-' + row['table_name'])\n",
    "        #Create message that is displayed in Tableau.\n",
    "        except:\n",
    "            print('no matching model found for ' + row['table_schema'] + '-' + row['table_name'])"
   ]
  },
  {
   "cell_type": "code",
   "execution_count": 7,
   "metadata": {},
   "outputs": [],
   "source": [
    "#Script for getting a list of descriptions from Oracle and joining them with the matching columns in Tableau\n",
    "#for index, row in oracle_infos.iterrows():\n",
    "#    oracle_comment = database.get_oracle_descriptions(oracle_auth, row[\"table_name\"])\n",
    "#    table_columns = tab.get_list_of_columns(tab_url, row[\"table_luid\"], site_id, tab_token)\n",
    "#    joined = tab.add_comments_to_tab_table(table_columns, oracle_comment)\n",
    "#    tab.update_table_descriptions(tab_url,site_id,joined,row[\"table_luid\"],tab_token)"
   ]
  },
  {
   "cell_type": "code",
   "execution_count": 8,
   "metadata": {},
   "outputs": [],
   "source": [
    "#Script for getting a list of descriptions from Snowflake and joining them with the matching columns in Tableau\n",
    "for index, row in snow_infos.iterrows():\n",
    "    snow_comment = database.get_snow_descriptions(snow_auth, row[\"table_name\"], row[\"table_schema\"])\n",
    "    table_columns = tab.get_list_of_columns(tab_url, row[\"table_luid\"], site_id, tab_token)\n",
    "    joined = tab.add_comments_to_tab_table(table_columns, snow_comment)\n",
    "    tab.update_table_descriptions(tab_url,site_id,joined,row[\"table_luid\"],tab_token)"
   ]
  },
  {
   "cell_type": "code",
   "execution_count": 10,
   "metadata": {},
   "outputs": [
    {
     "name": "stdout",
     "output_type": "stream",
     "text": [
      "Signed out successfully!\n"
     ]
    }
   ],
   "source": [
    "tab.logout(tab_url, tab_token)"
   ]
  }
 ],
 "metadata": {
  "kernelspec": {
   "display_name": "Python 3.9.0 64-bit",
   "language": "python",
   "name": "python3"
  },
  "language_info": {
   "codemirror_mode": {
    "name": "ipython",
    "version": 3
   },
   "file_extension": ".py",
   "mimetype": "text/x-python",
   "name": "python",
   "nbconvert_exporter": "python",
   "pygments_lexer": "ipython3",
   "version": "3.9.0"
  },
  "orig_nbformat": 4,
  "vscode": {
   "interpreter": {
    "hash": "aee8b7b246df8f9039afb4144a1f6fd8d2ca17a180786b69acc140d282b71a49"
   }
  }
 },
 "nbformat": 4,
 "nbformat_minor": 2
}
